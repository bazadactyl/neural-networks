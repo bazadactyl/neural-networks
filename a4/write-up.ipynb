{
 "cells": [
  {
   "cell_type": "markdown",
   "metadata": {},
   "source": [
    "## COMP 4107 Fall 2017\n",
    "\n",
    "## Basim Ramadhan 100 901 646\n",
    "\n",
    "## Christian Abbott 100 863 049\n",
    "\n",
    "***"
   ]
  },
  {
   "cell_type": "markdown",
   "metadata": {},
   "source": [
    "# Running Our Code\n",
    "\n",
    "We have provided an easy-to-use Makefile to help you run our program:"
   ]
  },
  {
   "cell_type": "code",
   "execution_count": null,
   "metadata": {},
   "outputs": [],
   "source": [
    "make prepare-venv\n",
    "env/bin/python cnn.py"
   ]
  },
  {
   "cell_type": "markdown",
   "metadata": {},
   "source": [
    "Otherwise, if you have tensorflow, scipy, numpy, scikit-learn, and keras installed already:"
   ]
  },
  {
   "cell_type": "code",
   "execution_count": null,
   "metadata": {},
   "outputs": [],
   "source": [
    "python3 cnn.py"
   ]
  },
  {
   "cell_type": "markdown",
   "metadata": {},
   "source": [
    "Running the program will do the following:\n",
    "\n",
    "1. Load the CIFAR-10 dataset.\n",
    "2. Initialize the Tensorflow computational graph.\n",
    "3. Train a CNN to classify images from the dataset.\n",
    "4. Print out the classifier's accuracy after each epoch."
   ]
  },
  {
   "attachments": {},
   "cell_type": "markdown",
   "metadata": {},
   "source": [
    "# Classification Accuracy\n",
    "\n",
    "TODO Analysis\n",
    "\n",
    "![accuracy.png](figures/accuracy.png)"
   ]
  },
  {
   "cell_type": "markdown",
   "metadata": {},
   "source": [
    "# Computational Graph\n",
    "\n",
    "TODO Insert image of the computational graph\n",
    "\n",
    "TODO Also include it as a separate PDF"
   ]
  },
  {
   "cell_type": "markdown",
   "metadata": {},
   "source": [
    "# Implementation\n",
    "\n",
    "TODO Insert all important bits of code with explaination"
   ]
  },
  {
   "cell_type": "markdown",
   "metadata": {},
   "source": [
    "## Modification of the Dataset Loaded\n",
    "\n",
    "We used `keras` to load the CIFAR-10 dataset, as shown in our code snippet below:"
   ]
  },
  {
   "cell_type": "code",
   "execution_count": null,
   "metadata": {},
   "outputs": [],
   "source": [
    "(X_train, y_train), (X_test, y_test) = cifar10.load_data()"
   ]
  },
  {
   "cell_type": "markdown",
   "metadata": {},
   "source": [
    "## Changing the Number of Convolutional Layers & Sizes of Max Pooling Layers\n",
    "\n",
    "In the code snippet below of our model, we used a CNN with two layers \n",
    "\n",
    "TODO say how many \"MLP\" layers we used\n",
    "TODO why do we dropout after reshaping? Looks unnecessary\n",
    "TODO did we actually change the number of layers?\n",
    "TODO did we actually change the sizes of the max pooling layers?"
   ]
  },
  {
   "cell_type": "code",
   "execution_count": null,
   "metadata": {},
   "outputs": [],
   "source": [
    "def model(X, w_1, w_2, w_fc, w_o, p_keep_conv, p_keep_hidden):\n",
    "    l1a = tf.nn.relu(tf.nn.conv2d(X,\n",
    "                                  w_1,\n",
    "                                  strides=[1, 1, 1, 1],\n",
    "                                  padding='SAME',\n",
    "                                  name=\"conv1\"))\n",
    "\n",
    "    l1 = tf.nn.max_pool(l1a,\n",
    "                        ksize=[1, 3, 3, 1],\n",
    "                        strides=[1, 2, 2, 1],\n",
    "                        padding='SAME',\n",
    "                        name=\"pool1\")\n",
    "\n",
    "    l1 = tf.nn.dropout(l1, p_keep_conv)\n",
    "\n",
    "    l2 = tf.nn.relu(tf.nn.conv2d(l1,\n",
    "                                 w_2,\n",
    "                                 strides=[1, 1, 1, 1],\n",
    "                                 padding=\"SAME\",\n",
    "                                 name=\"conv2\"))\n",
    "\n",
    "    l2 = tf.nn.max_pool(l2,\n",
    "                        ksize=[1, 2, 2, 1],\n",
    "                        strides=[1, 2, 2, 1],\n",
    "                        padding=\"SAME\",\n",
    "                        name=\"pool2\")\n",
    "\n",
    "    l2 = tf.nn.dropout(l2, p_keep_conv)\n",
    "\n",
    "    l3 = tf.reshape(l2, [-1, w_fc.get_shape().as_list()[0]])\n",
    "    l3 = tf.nn.dropout(l3, p_keep_conv)\n",
    "\n",
    "    l4 = tf.nn.relu(tf.matmul(l3, w_fc))\n",
    "    l4 = tf.nn.dropout(l4, p_keep_hidden)\n",
    "\n",
    "    pyx = tf.matmul(l4, w_o)\n",
    "    return pyx"
   ]
  }
 ],
 "metadata": {
  "kernelspec": {
   "display_name": "Python 3",
   "language": "python",
   "name": "python3"
  },
  "language_info": {
   "codemirror_mode": {
    "name": "ipython",
    "version": 3
   },
   "file_extension": ".py",
   "mimetype": "text/x-python",
   "name": "python",
   "nbconvert_exporter": "python",
   "pygments_lexer": "ipython3",
   "version": "3.5.2"
  }
 },
 "nbformat": 4,
 "nbformat_minor": 2
}
